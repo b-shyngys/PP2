{
 "cells": [
  {
   "cell_type": "markdown",
   "id": "31048993-f29a-4c78-bc0d-a08901dce955",
   "metadata": {},
   "source": [
    "Grams to ounces"
   ]
  },
  {
   "cell_type": "code",
   "execution_count": 2,
   "id": "20bb8178-5e39-4d60-8031-9eb006b382ed",
   "metadata": {},
   "outputs": [
    {
     "name": "stdout",
     "output_type": "stream",
     "text": [
      "3.5273961980686726\n"
     ]
    }
   ],
   "source": [
    "def grams_to_ounces(grams):\n",
    "    ounces = grams/28.3495231\n",
    "    print(ounces)\n",
    "grams_to_ounces(100)\n"
   ]
  },
  {
   "cell_type": "markdown",
   "id": "2b2cba76-d9d4-4cf9-a04b-360e5dcf8400",
   "metadata": {},
   "source": [
    "Fahrenheit temperature converter "
   ]
  },
  {
   "cell_type": "code",
   "execution_count": 7,
   "id": "cd65d656-aed1-46d0-bd18-e7613c81ebbc",
   "metadata": {},
   "outputs": [
    {
     "name": "stdout",
     "output_type": "stream",
     "text": [
      "23.88888888888889\n"
     ]
    }
   ],
   "source": [
    "def f_to_c(f):\n",
    "    c = (5 / 9) * (f - 32)\n",
    "    print(c)\n",
    "f_to_c(75)"
   ]
  },
  {
   "cell_type": "markdown",
   "id": "9e999eff-6d20-4558-87a3-0bcd9f1a5b26",
   "metadata": {},
   "source": [
    "Program to solve a classic puzzle"
   ]
  },
  {
   "cell_type": "code",
   "execution_count": 9,
   "id": "273464df-73c9-4cc2-a192-44b77583437c",
   "metadata": {},
   "outputs": [
    {
     "name": "stdout",
     "output_type": "stream",
     "text": [
      "23.0 12.0\n"
     ]
    }
   ],
   "source": [
    "def solve(numheads,numlegs):\n",
    "    rabbits=(numlegs-(2*numheads))/2\n",
    "    chickens=numheads-rabbits\n",
    "    print(chickens, rabbits)\n",
    "\n",
    "numheads=35\n",
    "numlegs=94\n",
    "solve(numheads, numlegs)"
   ]
  },
  {
   "cell_type": "markdown",
   "id": "dd4aef29-783f-4568-a7fe-33c34cd1eeb2",
   "metadata": {},
   "source": [
    "Prime number filter "
   ]
  },
  {
   "cell_type": "code",
   "execution_count": 26,
   "id": "b0be3fe7-404d-40a3-a5e7-b0d6a3a451be",
   "metadata": {},
   "outputs": [
    {
     "name": "stdout",
     "output_type": "stream",
     "text": [
      "[2, 3, 5, 7, 11]\n"
     ]
    }
   ],
   "source": [
    "def filter_prime(numbers):\n",
    "    answer = []\n",
    "    for x in numbers:\n",
    "        f = True\n",
    "        if x > 1:\n",
    "            for i in range(2,x):\n",
    "                if x % i == 0:\n",
    "                    f = False\n",
    "                    break\n",
    "        elif x == 1:\n",
    "            f = False\n",
    "        \n",
    "        if f:\n",
    "            answer.append(x)\n",
    "    print(answer)\n",
    "\n",
    "example = [1,2,3,4,5,6,7,8,9,10,11]\n",
    "filter_prime(example)\n",
    "            \n",
    "            "
   ]
  },
  {
   "cell_type": "markdown",
   "id": "ad20cbf4-49f6-4899-90b1-fc422b54b7d4",
   "metadata": {},
   "source": [
    "Permutatoin"
   ]
  },
  {
   "cell_type": "code",
   "execution_count": 37,
   "id": "6e42eadd-a853-4405-828f-e0013d12153d",
   "metadata": {},
   "outputs": [
    {
     "name": "stdin",
     "output_type": "stream",
     "text": [
      "ABC abc\n"
     ]
    },
    {
     "name": "stdout",
     "output_type": "stream",
     "text": [
      "['A', 'B', 'C']\n",
      "['A', 'C', 'B']\n",
      "['C', 'A', 'B']\n",
      "['C', 'B', 'A']\n",
      "['A', 'B', 'C']\n",
      "['A', 'C', 'B']\n"
     ]
    }
   ],
   "source": [
    "def to_str(a):\n",
    "    string = \"\"\n",
    "    for x in a:\n",
    "        string += x\n",
    "    return string\n",
    "\n",
    "def permute(a, l, r): \n",
    "    if l == r: \n",
    "        print (to_str(a)) \n",
    "    else: \n",
    "        for i in range(l, r + 1): \n",
    "            a[l], a[i] = a[i], a[l] \n",
    "            permute(a, l + 1, r) \n",
    "            a[l], a[i] = a[i], a[l] \n",
    " \n",
    "st = input(\"Enter a string: \")\n",
    "\n",
    "n = len(st) \n",
    "a = list(st) \n",
    "permute(a, 0, n-1) "
   ]
  },
  {
   "cell_type": "markdown",
   "id": "7b2526eb-0a36-4f7b-b6ff-cedcb3fa3bed",
   "metadata": {},
   "source": [
    "Reversed sentence"
   ]
  },
  {
   "cell_type": "code",
   "execution_count": null,
   "id": "69e2dfd4-f653-4ffd-b25e-3bce5741c90d",
   "metadata": {},
   "outputs": [],
   "source": [
    "def reverse(s):\n",
    "    return \" \".join(s.split()[::-1])\n",
    "\n",
    "s = input(\"Enter a sentence: \")\n",
    "print(reverse(s))\n",
    "    "
   ]
  },
  {
   "cell_type": "markdown",
   "id": "36e61b02-a964-4b39-9701-11399f2ec5c1",
   "metadata": {},
   "source": [
    "3 next to a 3 somewhere"
   ]
  },
  {
   "cell_type": "code",
   "execution_count": 41,
   "id": "5669c905-6d95-4d81-80a7-ea8045262696",
   "metadata": {},
   "outputs": [
    {
     "name": "stdout",
     "output_type": "stream",
     "text": [
      "True\n",
      "False\n",
      "False\n"
     ]
    }
   ],
   "source": [
    "def has_33(nums):\n",
    "    for i in range(len(nums)-1):\n",
    "        if nums[i]==3 and nums[i+1]==3:\n",
    "            return True\n",
    "    return False\n",
    "    \n",
    "print(has_33([1, 3, 3]))\n",
    "print(has_33([1, 3, 1, 3]))\n",
    "print(has_33([3, 1, 3]))"
   ]
  },
  {
   "cell_type": "markdown",
   "id": "2e221c07-4dc2-4f0e-b2ed-055da9c7077b",
   "metadata": {},
   "source": [
    "True if it contains 007 in order"
   ]
  },
  {
   "cell_type": "code",
   "execution_count": 44,
   "id": "d1e5a013-e7d9-407a-88f6-502b96dd0edd",
   "metadata": {},
   "outputs": [
    {
     "name": "stdout",
     "output_type": "stream",
     "text": [
      "True\n",
      "True\n",
      "False\n"
     ]
    }
   ],
   "source": [
    "def spy_game(nums):\n",
    "    zero1 = zero2 = seven = False\n",
    "    for num in nums:\n",
    "        if num == 0:\n",
    "            if zero1:\n",
    "                zero2 = True\n",
    "            else:\n",
    "                zero1 = True \n",
    "        elif zero1 and zero2 and num == 7:\n",
    "            return True \n",
    "\n",
    "    return False \n",
    "print(spy_game([1, 2, 4, 0, 0, 7, 5]))\n",
    "print(spy_game([1, 0, 2, 4, 0, 5, 7])) \n",
    "print(spy_game([1, 7, 2, 0, 4, 5, 0])) "
   ]
  },
  {
   "cell_type": "markdown",
   "id": "aecf69bc-b539-4fab-b48f-85946274df8f",
   "metadata": {},
   "source": [
    "volume of a sphere"
   ]
  },
  {
   "cell_type": "code",
   "execution_count": 47,
   "id": "41907c0d-fc76-4e8c-bea8-a3596d25fc04",
   "metadata": {},
   "outputs": [
    {
     "name": "stdin",
     "output_type": "stream",
     "text": [
      " 3\n"
     ]
    },
    {
     "name": "stdout",
     "output_type": "stream",
     "text": [
      "113.09733552923254\n"
     ]
    }
   ],
   "source": [
    "import math\n",
    "def volume(r):\n",
    "    V=4/3*math.pi*r**3\n",
    "    return V\n",
    "\n",
    "r=float(input())\n",
    "print(volume(r))\n"
   ]
  },
  {
   "cell_type": "markdown",
   "id": "c0b5f322-794d-4c95-bc0f-7ec8e5bc3eac",
   "metadata": {},
   "source": [
    "Python function that takes a list and returns a new list with unique elements of the first list."
   ]
  },
  {
   "cell_type": "code",
   "execution_count": 50,
   "id": "561fbe7b-2bd9-45b5-9ae9-33968206fd48",
   "metadata": {},
   "outputs": [
    {
     "name": "stdout",
     "output_type": "stream",
     "text": [
      "[1, 2, 3, 5, 7, 4]\n"
     ]
    }
   ],
   "source": [
    "def unique_list(list_old):\n",
    "    list_new=[]\n",
    "    for x in list_old:\n",
    "        if x not in list_new:\n",
    "            list_new.append(x)\n",
    "    return list_new\n",
    "\n",
    "list_old=[1, 2, 3, 5, 7, 1, 4]\n",
    "print(unique_list(list_old))"
   ]
  },
  {
   "cell_type": "markdown",
   "id": "fb767d65-54c7-47a4-ace7-1b1b3dd25573",
   "metadata": {},
   "source": [
    "palindrome"
   ]
  },
  {
   "cell_type": "code",
   "execution_count": 53,
   "id": "f9d05b04-54cc-4565-bef0-b42bdd4326ed",
   "metadata": {},
   "outputs": [
    {
     "name": "stdin",
     "output_type": "stream",
     "text": [
      " helleh\n"
     ]
    },
    {
     "name": "stdout",
     "output_type": "stream",
     "text": [
      "Palindrome\n"
     ]
    }
   ],
   "source": [
    "def isPalindrome(s):\n",
    "    s=s.lower()\n",
    "    return s==s[::-1]\n",
    "\n",
    "s=input()\n",
    "if isPalindrome(s):\n",
    "    print(\"Palindrome\")\n",
    "else:\n",
    "    print(\"Not a Palindrome\")"
   ]
  },
  {
   "cell_type": "markdown",
   "id": "138b7dd9-57fd-4701-912f-c70003708747",
   "metadata": {},
   "source": [
    "histogram"
   ]
  },
  {
   "cell_type": "code",
   "execution_count": 56,
   "id": "800a8929-1d5f-4a7b-ab39-00723e7ab6d1",
   "metadata": {},
   "outputs": [
    {
     "name": "stdout",
     "output_type": "stream",
     "text": [
      "****\n",
      "*********\n",
      "*******\n"
     ]
    }
   ],
   "source": [
    "def histogram(a):\n",
    "    for i in a:\n",
    "        print(\"*\"*i)\n",
    "    \n",
    "a=[4, 9, 7]\n",
    "histogram(a)"
   ]
  },
  {
   "cell_type": "markdown",
   "id": "8471ca71-1c84-48c0-a0a7-4d8d63cbb649",
   "metadata": {},
   "source": [
    "Guess the number"
   ]
  },
  {
   "cell_type": "code",
   "execution_count": 58,
   "id": "fd815993-2a70-42a5-bb32-b3ea1c218eea",
   "metadata": {},
   "outputs": [
    {
     "name": "stdout",
     "output_type": "stream",
     "text": [
      "Hello! What is your name?\n"
     ]
    },
    {
     "name": "stdin",
     "output_type": "stream",
     "text": [
      " kbtu\n"
     ]
    },
    {
     "name": "stdout",
     "output_type": "stream",
     "text": [
      "Well, kbtu, I am thinking of a number between 1 and 20.\n",
      "Take a guess\n"
     ]
    },
    {
     "name": "stdin",
     "output_type": "stream",
     "text": [
      " 5\n"
     ]
    },
    {
     "name": "stdout",
     "output_type": "stream",
     "text": [
      "Your guess is too high.\n",
      "Take a guess\n"
     ]
    },
    {
     "name": "stdin",
     "output_type": "stream",
     "text": [
      " 3\n"
     ]
    },
    {
     "name": "stdout",
     "output_type": "stream",
     "text": [
      "Your guess is too high.\n",
      "Take a guess\n"
     ]
    },
    {
     "name": "stdin",
     "output_type": "stream",
     "text": [
      " 2\n"
     ]
    },
    {
     "name": "stdout",
     "output_type": "stream",
     "text": [
      "Good job, kbtu! You guessed my number in 3 guesses!\n"
     ]
    }
   ],
   "source": [
    "import random\n",
    "print(\"Hello! What is your name?\")\n",
    "name=input()\n",
    "print(\"Well, \" + name +  \", I am thinking of a number between 1 and 20.\")\n",
    "print(\"Take a guess\")\n",
    "r=random.randint(1, 20)\n",
    "count=0\n",
    "while True:\n",
    "    n=int(input())\n",
    "    if n<r:\n",
    "        print(\"Your guess is too low.\")\n",
    "        print(\"Take a guess\")\n",
    "        count+=1\n",
    "    elif n>r:\n",
    "        print(\"Your guess is too high.\")\n",
    "        print(\"Take a guess\")\n",
    "        count+=1\n",
    "    elif n==r:\n",
    "        count+=1\n",
    "        break\n",
    "print(\"Good job, \" + name + \"! You guessed my number in \" + str(count) + \" guesses!\")\n"
   ]
  },
  {
   "cell_type": "code",
   "execution_count": null,
   "id": "8de2869e-a776-4d52-a18d-2fad27031f55",
   "metadata": {},
   "outputs": [],
   "source": [
    "def grams_to_ounces(grams):\n",
    "    ounces = grams/28.3495231\n",
    "    print(ounces)\n",
    "grams_to_ounces(100)"
   ]
  }
 ],
 "metadata": {
  "kernelspec": {
   "display_name": "Python [conda env:base] *",
   "language": "python",
   "name": "conda-base-py"
  },
  "language_info": {
   "codemirror_mode": {
    "name": "ipython",
    "version": 3
   },
   "file_extension": ".py",
   "mimetype": "text/x-python",
   "name": "python",
   "nbconvert_exporter": "python",
   "pygments_lexer": "ipython3",
   "version": "3.12.7"
  }
 },
 "nbformat": 4,
 "nbformat_minor": 5
}
