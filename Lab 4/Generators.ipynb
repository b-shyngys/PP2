{
 "cells": [
  {
   "cell_type": "markdown",
   "id": "435153f0-8a40-4cf8-bbd2-26e3f6060331",
   "metadata": {},
   "source": [
    "1. Create a generator that generates the squares of numbers up to some number N."
   ]
  },
  {
   "cell_type": "code",
   "execution_count": 32,
   "id": "6b315753-ea87-42ff-80d8-8c1ddd551d4d",
   "metadata": {},
   "outputs": [
    {
     "name": "stdin",
     "output_type": "stream",
     "text": [
      "N: 5\n"
     ]
    },
    {
     "name": "stdout",
     "output_type": "stream",
     "text": [
      "1\n",
      "4\n",
      "9\n",
      "16\n",
      "25\n"
     ]
    }
   ],
   "source": [
    "n = int(input(\"N:\"))\n",
    "\n",
    "def gen(n):\n",
    "    a = 0\n",
    "    while a < n:\n",
    "        a +=1\n",
    "        yield a**2\n",
    "\n",
    "for i in gen(n):\n",
    "    print(i)"
   ]
  },
  {
   "cell_type": "markdown",
   "id": "9fadcb70-28d4-4a8f-843d-7a9acd420a41",
   "metadata": {},
   "source": [
    "2. Write a program using generator to print the even numbers between 0 and n in comma separated form where n is input from console."
   ]
  },
  {
   "cell_type": "code",
   "execution_count": 36,
   "id": "c1f599b7-64b2-42cc-b982-e99dd49a3a22",
   "metadata": {},
   "outputs": [
    {
     "name": "stdin",
     "output_type": "stream",
     "text": [
      "N: 10\n"
     ]
    },
    {
     "name": "stdout",
     "output_type": "stream",
     "text": [
      "2\n",
      "4\n",
      "6\n",
      "8\n"
     ]
    }
   ],
   "source": [
    "n = int(input(\"N:\"))\n",
    "\n",
    "def even(n):\n",
    "    a = 2\n",
    "    while a < n:\n",
    "        yield a\n",
    "        a += 2\n",
    "        \n",
    "for i in even(n):\n",
    "    print(i)"
   ]
  },
  {
   "cell_type": "markdown",
   "id": "d2adaea2-b2a9-4fa4-93cb-38a6c44a6cca",
   "metadata": {},
   "source": [
    "3. Define a function with a generator which can iterate the numbers, which are divisible by 3 and 4, between a given range 0 and n."
   ]
  },
  {
   "cell_type": "code",
   "execution_count": 45,
   "id": "8ac69b1b-c623-4017-b424-b475719bac47",
   "metadata": {},
   "outputs": [
    {
     "name": "stdin",
     "output_type": "stream",
     "text": [
      "N: 100\n"
     ]
    },
    {
     "name": "stdout",
     "output_type": "stream",
     "text": [
      "12\n",
      "24\n",
      "36\n",
      "48\n",
      "60\n",
      "72\n",
      "84\n",
      "96\n"
     ]
    }
   ],
   "source": [
    "n = int(input(\"N:\"))\n",
    "\n",
    "def com(n):\n",
    "    a = 12\n",
    "    if n < 12:\n",
    "        print(\"There is no such numbers\")\n",
    "    elif n >= 12:\n",
    "        while a < n:\n",
    "            if a%3 == 0 and a%4 == 0:\n",
    "                yield a\n",
    "            a += 3\n",
    "\n",
    "for i in com(n):\n",
    "    print(i)\n",
    "        "
   ]
  },
  {
   "cell_type": "markdown",
   "id": "b08993fd-30db-4e11-a9ac-e7eb6ec6d55d",
   "metadata": {},
   "source": [
    "4. Implement a generator called squares to yield the square of all numbers from (a) to (b). Test it with a \"for\" loop and print each of the yielded values."
   ]
  },
  {
   "cell_type": "code",
   "execution_count": 49,
   "id": "f4900ade-de8a-43cf-be21-65c51e763d2c",
   "metadata": {},
   "outputs": [
    {
     "name": "stdin",
     "output_type": "stream",
     "text": [
      "a: 1\n",
      "b: 10\n"
     ]
    },
    {
     "name": "stdout",
     "output_type": "stream",
     "text": [
      "1\n",
      "4\n",
      "9\n",
      "16\n",
      "25\n",
      "36\n",
      "49\n",
      "64\n",
      "81\n",
      "100\n"
     ]
    }
   ],
   "source": [
    "a = int(input(\"a:\"))\n",
    "b = int(input(\"b:\"))\n",
    "\n",
    "def squares(a,b):\n",
    "    for i in range(a,b+1):\n",
    "        yield i*i\n",
    "        i += 1\n",
    "for i in squares(a,b):\n",
    "    print(i)"
   ]
  },
  {
   "cell_type": "markdown",
   "id": "908d9e58-622e-4d27-9e58-0780a2220e16",
   "metadata": {},
   "source": [
    "5. Implement a generator that returns all numbers from (n) down to 0."
   ]
  },
  {
   "cell_type": "code",
   "execution_count": 53,
   "id": "b9c02ab4-266a-47cf-a9a6-eb86de4971b4",
   "metadata": {},
   "outputs": [
    {
     "name": "stdin",
     "output_type": "stream",
     "text": [
      "N: 15\n"
     ]
    },
    {
     "name": "stdout",
     "output_type": "stream",
     "text": [
      "15\n",
      "14\n",
      "13\n",
      "12\n",
      "11\n",
      "10\n",
      "9\n",
      "8\n",
      "7\n",
      "6\n",
      "5\n",
      "4\n",
      "3\n",
      "2\n",
      "1\n",
      "0\n"
     ]
    }
   ],
   "source": [
    "n = int(input(\"N:\"))\n",
    "\n",
    "def down(n):\n",
    "    while not n < 0:\n",
    "        yield n\n",
    "        n -= 1\n",
    "\n",
    "for i in down(n):\n",
    "    print(i)"
   ]
  }
 ],
 "metadata": {
  "kernelspec": {
   "display_name": "Python [conda env:base] *",
   "language": "python",
   "name": "conda-base-py"
  },
  "language_info": {
   "codemirror_mode": {
    "name": "ipython",
    "version": 3
   },
   "file_extension": ".py",
   "mimetype": "text/x-python",
   "name": "python",
   "nbconvert_exporter": "python",
   "pygments_lexer": "ipython3",
   "version": "3.12.7"
  }
 },
 "nbformat": 4,
 "nbformat_minor": 5
}
