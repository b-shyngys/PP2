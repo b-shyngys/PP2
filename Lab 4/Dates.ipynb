{
 "cells": [
  {
   "cell_type": "markdown",
   "id": "2610968d-4196-431a-b38d-917b1a4d1e1e",
   "metadata": {},
   "source": [
    "1.Write a Python program to subtract five days from current date."
   ]
  },
  {
   "cell_type": "code",
   "execution_count": 4,
   "id": "ec046053-25df-47eb-bdf0-a3701d3ce7d5",
   "metadata": {},
   "outputs": [
    {
     "name": "stdout",
     "output_type": "stream",
     "text": [
      "2025-02-07 15:52:41.745957\n"
     ]
    }
   ],
   "source": [
    "import datetime\n",
    "\n",
    "today = datetime.datetime.today()\n",
    "result = today - datetime.timedelta(5)\n",
    "\n",
    "print(result)"
   ]
  },
  {
   "cell_type": "markdown",
   "id": "9758f0c7-2160-4d7f-a65d-de6f272ec6bd",
   "metadata": {},
   "source": [
    "2.Write a Python program to print yesterday, today, tomorrow."
   ]
  },
  {
   "cell_type": "code",
   "execution_count": 7,
   "id": "2c0f616a-0ba7-4c57-8050-b84183dca11b",
   "metadata": {},
   "outputs": [
    {
     "name": "stdout",
     "output_type": "stream",
     "text": [
      "yesterday: 2025-02-11 15:55:09.158239\n",
      "today: 2025-02-12 15:55:09.158239\n",
      "tommorow 2025-02-13 15:55:09.158239\n"
     ]
    }
   ],
   "source": [
    "today = datetime.datetime.today()\n",
    "yesterday = today - datetime.timedelta(1)\n",
    "tommorow = today + datetime.timedelta(1)\n",
    "\n",
    "print(\"yesterday:\", yesterday)\n",
    "print(\"today:\", today)\n",
    "print(\"tommorow\", tommorow)"
   ]
  },
  {
   "cell_type": "markdown",
   "id": "bb06ae68-8bf2-4741-9c71-42023b084c1f",
   "metadata": {},
   "source": [
    "3.Write a Python program to drop microseconds from datetime."
   ]
  },
  {
   "cell_type": "code",
   "execution_count": 10,
   "id": "9aa2c5ec-f536-4f60-a542-cdcc6fe0f38e",
   "metadata": {},
   "outputs": [
    {
     "name": "stdout",
     "output_type": "stream",
     "text": [
      "2025-02-12 15:55:09\n"
     ]
    }
   ],
   "source": [
    "result = today.replace(microsecond=0)\n",
    "print(result)"
   ]
  },
  {
   "cell_type": "markdown",
   "id": "58f8eadd-e6ff-4df7-a75b-bb45c25c6409",
   "metadata": {},
   "source": [
    "4.Write a Python program to calculate two date difference in seconds."
   ]
  },
  {
   "cell_type": "code",
   "execution_count": 19,
   "id": "aecad682-41b6-4dc5-9eb5-d1b3331cb6bb",
   "metadata": {},
   "outputs": [
    {
     "name": "stdout",
     "output_type": "stream",
     "text": [
      "180900.0\n"
     ]
    }
   ],
   "source": [
    "d1 = datetime.datetime(2025, 2, 12, 14, 30, 0) \n",
    "d2 = datetime.datetime(2025, 2, 10, 12, 15, 0)\n",
    "result = (d1 - d2).total_seconds()\n",
    "print(result)"
   ]
  }
 ],
 "metadata": {
  "kernelspec": {
   "display_name": "Python [conda env:base] *",
   "language": "python",
   "name": "conda-base-py"
  },
  "language_info": {
   "codemirror_mode": {
    "name": "ipython",
    "version": 3
   },
   "file_extension": ".py",
   "mimetype": "text/x-python",
   "name": "python",
   "nbconvert_exporter": "python",
   "pygments_lexer": "ipython3",
   "version": "3.12.7"
  }
 },
 "nbformat": 4,
 "nbformat_minor": 5
}
