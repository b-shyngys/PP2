{
 "cells": [
  {
   "cell_type": "markdown",
   "id": "f47975a3-f7d9-44e6-861f-b1a20cd7919b",
   "metadata": {},
   "source": [
    "1. Degree to Radian"
   ]
  },
  {
   "cell_type": "code",
   "execution_count": 2,
   "id": "67e53218-a76b-4ce4-8156-afa512a409d3",
   "metadata": {},
   "outputs": [
    {
     "name": "stdin",
     "output_type": "stream",
     "text": [
      "Input degree: 15\n"
     ]
    },
    {
     "name": "stdout",
     "output_type": "stream",
     "text": [
      "0.2617993877991494\n"
     ]
    }
   ],
   "source": [
    "import math \n",
    "\n",
    "x = float(input(\"Input degree:\"))\n",
    "\n",
    "radian = (x/180)*(math.pi)\n",
    "\n",
    "print(radian)"
   ]
  },
  {
   "cell_type": "markdown",
   "id": "e01154b2-71ed-4515-a08c-3b105f49a743",
   "metadata": {},
   "source": [
    "2. Area of Trapezoid"
   ]
  },
  {
   "cell_type": "code",
   "execution_count": 9,
   "id": "07168dbe-4a8a-4689-b247-ab75d593e8f8",
   "metadata": {
    "scrolled": true
   },
   "outputs": [
    {
     "name": "stdin",
     "output_type": "stream",
     "text": [
      "height: 5\n",
      "base1: 5\n",
      "base2: 6\n"
     ]
    },
    {
     "name": "stdout",
     "output_type": "stream",
     "text": [
      "27.5\n"
     ]
    }
   ],
   "source": [
    "height = float(input(\"height:\"))\n",
    "a = float(input(\"base1:\"))\n",
    "b = float(input(\"base2:\"))\n",
    "\n",
    "print(height*((a+b)/2))"
   ]
  },
  {
   "cell_type": "markdown",
   "id": "274ff0ae-3012-407e-9c87-94c868a7b5d6",
   "metadata": {},
   "source": [
    "3. Calculate the area of regular polygon."
   ]
  },
  {
   "cell_type": "code",
   "execution_count": 38,
   "id": "a38e4024-0f7b-456e-9e2b-ecc350390bc0",
   "metadata": {},
   "outputs": [
    {
     "name": "stdin",
     "output_type": "stream",
     "text": [
      "number of sides: 4\n",
      "length of a side: 25\n"
     ]
    },
    {
     "name": "stdout",
     "output_type": "stream",
     "text": [
      "625\n"
     ]
    }
   ],
   "source": [
    "n = int(input(\"number of sides:\"))\n",
    "a = int(input(\"length of a side:\"))\n",
    "s = a*a*n*(1/4)*(math.tan((math.pi)*(n-2)/(2*n)))\n",
    "print(round(s))\n"
   ]
  },
  {
   "cell_type": "markdown",
   "id": "c2c066a4-ac74-41be-b1a7-06f0f060628e",
   "metadata": {},
   "source": [
    "4.  The area of a parallelogram"
   ]
  },
  {
   "cell_type": "code",
   "execution_count": 41,
   "id": "2f12119f-7fe4-46d2-8192-7a6d31f8137a",
   "metadata": {},
   "outputs": [
    {
     "name": "stdin",
     "output_type": "stream",
     "text": [
      "Length of base: 5\n",
      "Height: 6\n"
     ]
    },
    {
     "name": "stdout",
     "output_type": "stream",
     "text": [
      "30.0\n"
     ]
    }
   ],
   "source": [
    "a = float(input(\"Length of base:\"))\n",
    "h = float(input(\"Height:\"))\n",
    "\n",
    "print(a*h)"
   ]
  }
 ],
 "metadata": {
  "kernelspec": {
   "display_name": "Python [conda env:base] *",
   "language": "python",
   "name": "conda-base-py"
  },
  "language_info": {
   "codemirror_mode": {
    "name": "ipython",
    "version": 3
   },
   "file_extension": ".py",
   "mimetype": "text/x-python",
   "name": "python",
   "nbconvert_exporter": "python",
   "pygments_lexer": "ipython3",
   "version": "3.12.7"
  }
 },
 "nbformat": 4,
 "nbformat_minor": 5
}
