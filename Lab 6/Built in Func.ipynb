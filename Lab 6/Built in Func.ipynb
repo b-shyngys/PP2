{
 "cells": [
  {
   "cell_type": "code",
   "execution_count": 1,
   "id": "044e24b9-a730-4c50-81c7-ec90af0f98eb",
   "metadata": {},
   "outputs": [],
   "source": [
    "import math\n",
    "import time"
   ]
  },
  {
   "cell_type": "code",
   "execution_count": 3,
   "id": "69bfe4c2-6de8-4eff-bbd9-8224acc045fb",
   "metadata": {},
   "outputs": [
    {
     "name": "stdout",
     "output_type": "stream",
     "text": [
      "72\n"
     ]
    }
   ],
   "source": [
    "#ex1\n",
    "print(math.prod([1,8,9]))"
   ]
  },
  {
   "cell_type": "code",
   "execution_count": 5,
   "id": "f9f1c6df-3398-473f-a902-d3154cbdc4bc",
   "metadata": {},
   "outputs": [
    {
     "name": "stdout",
     "output_type": "stream",
     "text": [
      "(2, 4)\n"
     ]
    }
   ],
   "source": [
    "#ex2\n",
    "def count_case(s):\n",
    "    upp = sum(c.isupper() for c in s if c.isupper())\n",
    "    low = sum(c.islower() for c in s if c.islower())\n",
    "    return upp , low\n",
    "\n",
    "print(count_case(\"HelloE\"))"
   ]
  },
  {
   "cell_type": "code",
   "execution_count": 7,
   "id": "0ca37d60-f38e-40f8-98fb-3918514230e4",
   "metadata": {},
   "outputs": [
    {
     "name": "stdin",
     "output_type": "stream",
     "text": [
      "введите слово для проверки  shfjahu\n"
     ]
    },
    {
     "name": "stdout",
     "output_type": "stream",
     "text": [
      "False\n",
      "False\n"
     ]
    }
   ],
   "source": [
    "#ex3\n",
    "row = input(\"введите слово для проверки \")\n",
    "if row == row[::-1]: print(True) \n",
    "else: print(False)\n",
    "#or\n",
    "if row == \"\".join(reversed(row)): print(True) \n",
    "else: print(False)"
   ]
  },
  {
   "cell_type": "code",
   "execution_count": 9,
   "id": "db46cfa7-db77-4d1b-8598-7ca8b1ba9e92",
   "metadata": {},
   "outputs": [
    {
     "name": "stdin",
     "output_type": "stream",
     "text": [
      "input number: 4\n",
      "input ms 3\n"
     ]
    },
    {
     "name": "stdout",
     "output_type": "stream",
     "text": [
      "2.0\n"
     ]
    }
   ],
   "source": [
    "#ex4\n",
    "a = int(input(\"input number:\"))\n",
    "b = int(input(\"input ms\"))\n",
    "time.sleep(b/1000)\n",
    "print(math.sqrt(a))"
   ]
  },
  {
   "cell_type": "code",
   "execution_count": 11,
   "id": "3e892b03-9dda-4e07-b9f1-1396918b37f5",
   "metadata": {},
   "outputs": [
    {
     "data": {
      "text/plain": [
       "True"
      ]
     },
     "execution_count": 11,
     "metadata": {},
     "output_type": "execute_result"
    }
   ],
   "source": [
    "#ex5\n",
    "tup = (1,2,4,True)\n",
    "all(tup)"
   ]
  },
  {
   "cell_type": "code",
   "execution_count": null,
   "id": "b99f0a03-8097-4334-96f1-c0dd31c35082",
   "metadata": {},
   "outputs": [],
   "source": []
  }
 ],
 "metadata": {
  "kernelspec": {
   "display_name": "Python [conda env:base] *",
   "language": "python",
   "name": "conda-base-py"
  },
  "language_info": {
   "codemirror_mode": {
    "name": "ipython",
    "version": 3
   },
   "file_extension": ".py",
   "mimetype": "text/x-python",
   "name": "python",
   "nbconvert_exporter": "python",
   "pygments_lexer": "ipython3",
   "version": "3.12.7"
  }
 },
 "nbformat": 4,
 "nbformat_minor": 5
}
