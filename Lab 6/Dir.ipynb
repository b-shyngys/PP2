{
 "cells": [
  {
   "cell_type": "code",
   "execution_count": 1,
   "id": "e5c25390-b5f3-46ac-afab-0c86b3307f37",
   "metadata": {},
   "outputs": [],
   "source": [
    "import os\n",
    "import shutil"
   ]
  },
  {
   "cell_type": "code",
   "execution_count": null,
   "id": "66d7c11c-6a36-41f3-8634-942f8e3cca89",
   "metadata": {},
   "outputs": [],
   "source": [
    "#ex1\n",
    "path = input(\"input path : \")\n",
    "path = path.replace( \"\\\\\" , \"/\")\n",
    "\n",
    "os.chdir(path)\n",
    "with os.scandir(path) as entries:\n",
    "    entries_list = list(entries)  \n",
    "    dirs = [entry.name for entry in entries_list if entry.is_dir()]\n",
    "    files = [entry.name for entry in entries_list if entry.is_file()]\n",
    "\n",
    "print(\"Directories:\", dirs)\n",
    "print(\"Files:\", files)\n",
    "print(\"All Entries:\", dirs + files)"
   ]
  },
  {
   "cell_type": "code",
   "execution_count": null,
   "id": "092380c3-f2e9-4b73-87bf-aa3d905db3c1",
   "metadata": {},
   "outputs": [],
   "source": [
    "print(os.getcwd())"
   ]
  },
  {
   "cell_type": "code",
   "execution_count": null,
   "id": "f3195f67-eba5-4045-a7f3-dfc6ca36b9fc",
   "metadata": {},
   "outputs": [],
   "source": [
    "path = input(\"input path : \")\n",
    "path = path.replace( \"\\\\\" , \"/\")\n",
    "\n",
    "os.chdir(path)\n",
    "\n",
    "for dirpath, dirnames, filenames in os.walk('.'):\n",
    "    for dirname in dirnames:\n",
    "        print('Каталог: ', os.path.join(dirpath, dirname))\n",
    "    for filename in filenames:\n",
    "        print('Файл: ', os.path.join(dirpath, filename))"
   ]
  },
  {
   "cell_type": "code",
   "execution_count": null,
   "id": "e6955920-122e-4c86-a9b2-140fc229af72",
   "metadata": {},
   "outputs": [],
   "source": [
    "#ex2\n",
    "path = input(\"input path : \")\n",
    "path = path.replace( \"\\\\\" , \"/\")\n",
    "\n",
    "os.chdir(path)\n",
    "print(f\"Exists: {os.path.exists(path)}\")\n",
    "print(f\"Readable: {os.access(path, os.R_OK)}\")\n",
    "print(f\"Writable: {os.access(path, os.W_OK)}\")\n",
    "print(f\"Executable: {os.access(path, os.X_OK)}\")"
   ]
  },
  {
   "cell_type": "code",
   "execution_count": null,
   "id": "579c7dcc-7fff-48d0-b328-8596a1fa1bf6",
   "metadata": {},
   "outputs": [],
   "source": [
    "#ex4\n",
    "path = input(\"input path : \")\n",
    "path = path.replace( \"\\\\\" , \"/\")\n",
    "\n",
    "\n",
    "if os.path.exists(path) :\n",
    "    if os.path.exists(path):\n",
    "        print(\"Path exists\")\n",
    "        print(\"Directory:\", os.path.dirname(path))\n",
    "        print(\"Filename:\", os.path.basename(path))\n",
    "    else:\n",
    "        print(\"Path doesnt exist\")"
   ]
  },
  {
   "cell_type": "code",
   "execution_count": null,
   "id": "5ba28db5-6717-4c62-b1a3-94b899fb8f51",
   "metadata": {},
   "outputs": [],
   "source": [
    "#ex5\n",
    "with open(\"row1.txt\", \"r\", encoding=\"utf-8\") as file:\n",
    "    info = file.readlines()\n",
    "print(len(info))\n"
   ]
  },
  {
   "cell_type": "code",
   "execution_count": null,
   "id": "674071e0-a8f3-4cb1-a953-d30bb7c682ef",
   "metadata": {},
   "outputs": [],
   "source": [
    "#ex6\n",
    "\n",
    "os.chdir(\"for A-Z\")\n",
    "for letter in range(65, 91):  # ASCII A-Z\n",
    "        with open(f\"{chr(letter)}.txt\", 'w') as file:\n",
    "            file.write(f\"This is {chr(letter)}.txt\")"
   ]
  },
  {
   "cell_type": "code",
   "execution_count": null,
   "id": "df30dc38-9f56-48ca-bd2e-6cf9e2def03f",
   "metadata": {},
   "outputs": [],
   "source": [
    "#ex7\n",
    "#os.chdir(\"..\")\n",
    "with open(\"rowcopy.txt\", \"w\" , encoding=\"utf-8\") as file:\n",
    "    with open(\"row1.txt\", \"r\" , encoding=\"utf-8\") as file1:\n",
    "        info = file1.readlines()\n",
    "    for i in range(len(info)):\n",
    "        file.write(info[i])"
   ]
  },
  {
   "cell_type": "code",
   "execution_count": null,
   "id": "2e9a42e2-c219-4647-a5f1-c2e0e7da9755",
   "metadata": {},
   "outputs": [],
   "source": [
    "os.mkdir(\"fordelete\")"
   ]
  },
  {
   "cell_type": "code",
   "execution_count": null,
   "id": "79792d7e-6864-4ec9-a232-144d4077f8c2",
   "metadata": {},
   "outputs": [],
   "source": [
    "#ex8\n",
    "\n",
    "path = input(\"input path : \")\n",
    "path = path.replace( \"\\\\\" , \"/\")\n",
    "if os.access(path, os.W_OK) and os.path.exists(path):\n",
    "    os.rmdir(path)#для пустых если не пустая shutil.rmtree\n",
    "    print(\"dir deleted\")\n",
    "else:\n",
    "    print(\"not found\")\n",
    "    "
   ]
  },
  {
   "cell_type": "code",
   "execution_count": null,
   "id": "f3555b77-6ec2-47df-9702-e0d54dfbec71",
   "metadata": {},
   "outputs": [],
   "source": []
  }
 ],
 "metadata": {
  "kernelspec": {
   "display_name": "Python [conda env:base] *",
   "language": "python",
   "name": "conda-base-py"
  },
  "language_info": {
   "codemirror_mode": {
    "name": "ipython",
    "version": 3
   },
   "file_extension": ".py",
   "mimetype": "text/x-python",
   "name": "python",
   "nbconvert_exporter": "python",
   "pygments_lexer": "ipython3",
   "version": "3.12.7"
  }
 },
 "nbformat": 4,
 "nbformat_minor": 5
}
