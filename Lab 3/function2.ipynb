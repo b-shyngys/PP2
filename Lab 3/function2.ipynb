{
 "cells": [
  {
   "cell_type": "code",
   "execution_count": 1,
   "id": "f6ab2e74-8754-4456-9dec-bf977fee0db1",
   "metadata": {},
   "outputs": [],
   "source": [
    "# Dictionary of movies\n",
    "\n",
    "movies = [\n",
    "{\n",
    "\"name\": \"Usual Suspects\", \n",
    "\"imdb\": 7.0,\n",
    "\"category\": \"Thriller\"\n",
    "},\n",
    "{\n",
    "\"name\": \"Hitman\",\n",
    "\"imdb\": 6.3,\n",
    "\"category\": \"Action\"\n",
    "},\n",
    "{\n",
    "\"name\": \"Dark Knight\",\n",
    "\"imdb\": 9.0,\n",
    "\"category\": \"Adventure\"\n",
    "},\n",
    "{\n",
    "\"name\": \"The Help\",\n",
    "\"imdb\": 8.0,\n",
    "\"category\": \"Drama\"\n",
    "},\n",
    "{\n",
    "\"name\": \"The Choice\",\n",
    "\"imdb\": 6.2,\n",
    "\"category\": \"Romance\"\n",
    "},\n",
    "{\n",
    "\"name\": \"Colonia\",\n",
    "\"imdb\": 7.4,\n",
    "\"category\": \"Romance\"\n",
    "},\n",
    "{\n",
    "\"name\": \"Love\",\n",
    "\"imdb\": 6.0,\n",
    "\"category\": \"Romance\"\n",
    "},\n",
    "{\n",
    "\"name\": \"Bride Wars\",\n",
    "\"imdb\": 5.4,\n",
    "\"category\": \"Romance\"\n",
    "},\n",
    "{\n",
    "\"name\": \"AlphaJet\",\n",
    "\"imdb\": 3.2,\n",
    "\"category\": \"War\"\n",
    "},\n",
    "{\n",
    "\"name\": \"Ringing Crime\",\n",
    "\"imdb\": 4.0,\n",
    "\"category\": \"Crime\"\n",
    "},\n",
    "{\n",
    "\"name\": \"Joking muck\",\n",
    "\"imdb\": 7.2,\n",
    "\"category\": \"Comedy\"\n",
    "},\n",
    "{\n",
    "\"name\": \"What is the name\",\n",
    "\"imdb\": 9.2,\n",
    "\"category\": \"Suspense\"\n",
    "},\n",
    "{\n",
    "\"name\": \"Detective\",\n",
    "\"imdb\": 7.0,\n",
    "\"category\": \"Suspense\"\n",
    "},\n",
    "{\n",
    "\"name\": \"Exam\",\n",
    "\"imdb\": 4.2,\n",
    "\"category\": \"Thriller\"\n",
    "},\n",
    "{\n",
    "\"name\": \"We Two\",\n",
    "\"imdb\": 7.2,\n",
    "\"category\": \"Romance\"\n",
    "}\n",
    "]"
   ]
  },
  {
   "cell_type": "code",
   "execution_count": 7,
   "id": "1c2744f5-9010-45fa-9f38-40c6ec2b9bdc",
   "metadata": {},
   "outputs": [
    {
     "name": "stdout",
     "output_type": "stream",
     "text": [
      "True\n"
     ]
    }
   ],
   "source": [
    "def is_high_rated(movie):\n",
    "    return movie[\"imdb\"] > 5.5\n",
    "\n",
    "print(is_high_rated(movies[1]))"
   ]
  },
  {
   "cell_type": "code",
   "execution_count": 9,
   "id": "bcc1909c-c868-4a94-9dfb-81187219f8af",
   "metadata": {},
   "outputs": [
    {
     "name": "stdout",
     "output_type": "stream",
     "text": [
      "Usual Suspects - 7.0\n",
      "Hitman - 6.3\n",
      "Dark Knight - 9.0\n",
      "The Help - 8.0\n",
      "The Choice - 6.2\n",
      "Colonia - 7.4\n",
      "Love - 6.0\n",
      "Joking muck - 7.2\n",
      "What is the name - 9.2\n",
      "Detective - 7.0\n",
      "We Two - 7.2\n"
     ]
    }
   ],
   "source": [
    "def high_rated_movies(movies):\n",
    "    return list(filter(lambda movie: movie[\"imdb\"] > 5.5, movies))\n",
    "\n",
    "filtered_movies = high_rated_movies(movies)\n",
    "for movie in filtered_movies:\n",
    "    print(movie[\"name\"], \"-\", movie[\"imdb\"])"
   ]
  },
  {
   "cell_type": "code",
   "execution_count": 11,
   "id": "02108162-d16a-41c3-bdbd-5e408270c5db",
   "metadata": {},
   "outputs": [
    {
     "name": "stdin",
     "output_type": "stream",
     "text": [
      " War\n"
     ]
    },
    {
     "name": "stdout",
     "output_type": "stream",
     "text": [
      "['AlphaJet']\n"
     ]
    }
   ],
   "source": [
    "def equal_category(movies, categ):\n",
    "    l=[]\n",
    "    for x in movies:\n",
    "        if x[\"category\"]==categ:\n",
    "            l.append(x[\"name\"])\n",
    "    return l\n",
    "\n",
    "categ=input()\n",
    "print(equal_category(movies, categ))"
   ]
  },
  {
   "cell_type": "code",
   "execution_count": 13,
   "id": "588c3c95-723f-4609-a77d-e1f4435c2081",
   "metadata": {},
   "outputs": [
    {
     "name": "stdout",
     "output_type": "stream",
     "text": [
      "6.486666666666667\n"
     ]
    }
   ],
   "source": [
    "def av_imdb(movie):\n",
    "    sum=0\n",
    "    for x in movie:\n",
    "        sum+=x[\"imdb\"]\n",
    "    aver=sum/len(movie)\n",
    "    return aver\n",
    "\n",
    "print(av_imdb(movies))"
   ]
  },
  {
   "cell_type": "code",
   "execution_count": null,
   "id": "527a05fb-9fc4-43a6-a82e-667fa2fe5c39",
   "metadata": {},
   "outputs": [],
   "source": [
    "def av_categ_sc(movie, categ):\n",
    "    sum=0\n",
    "    count=0\n",
    "    for x in movie:\n",
    "        if x[\"category\"]==categ:\n",
    "            sum+=x[\"imdb\"]\n",
    "            count+=1\n",
    "    av=sum/count\n",
    "    return av\n",
    "\n",
    "categ=input()\n",
    "print(av_categ_sc(movies, categ))"
   ]
  },
  {
   "cell_type": "code",
   "execution_count": null,
   "id": "53b662c7-4fe3-4384-a290-fc53d2330501",
   "metadata": {},
   "outputs": [],
   "source": []
  }
 ],
 "metadata": {
  "kernelspec": {
   "display_name": "Python [conda env:base] *",
   "language": "python",
   "name": "conda-base-py"
  },
  "language_info": {
   "codemirror_mode": {
    "name": "ipython",
    "version": 3
   },
   "file_extension": ".py",
   "mimetype": "text/x-python",
   "name": "python",
   "nbconvert_exporter": "python",
   "pygments_lexer": "ipython3",
   "version": "3.12.7"
  }
 },
 "nbformat": 4,
 "nbformat_minor": 5
}
