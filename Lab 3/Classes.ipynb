{
 "cells": [
  {
   "cell_type": "code",
   "execution_count": 5,
   "id": "87a99986-ce01-44ef-8222-c2384cf42ffb",
   "metadata": {},
   "outputs": [
    {
     "name": "stdin",
     "output_type": "stream",
     "text": [
      " hello\n"
     ]
    },
    {
     "name": "stdout",
     "output_type": "stream",
     "text": [
      "HELLO\n"
     ]
    }
   ],
   "source": [
    "class Upper:\n",
    "    def __init__(self):\n",
    "        self.string = \"\"\n",
    "    def getString(self):\n",
    "        self.string=input()\n",
    "    def printString(self):\n",
    "        print(self.string.upper())\n",
    "x = Upper()\n",
    "x.getString()\n",
    "x.printString()"
   ]
  },
  {
   "cell_type": "code",
   "execution_count": 7,
   "id": "7cf8636a-aa3d-4fbe-8eec-238d3aff2ce1",
   "metadata": {},
   "outputs": [
    {
     "name": "stdin",
     "output_type": "stream",
     "text": [
      "Side:  2\n"
     ]
    },
    {
     "name": "stdout",
     "output_type": "stream",
     "text": [
      "Area: 4\n"
     ]
    }
   ],
   "source": [
    "class Shape:\n",
    "    def __init__(self):\n",
    "        self.area = 0\n",
    "class Square(Shape):\n",
    "    def __init__(self, length):\n",
    "        super().__init__()\n",
    "        self.length = length\n",
    "    def getLength(self):\n",
    "        self.length = int(input(\"Side: \"))\n",
    "    def calculateArea(self):\n",
    "        self.area = self.length * self.length\n",
    "        return self.area\n",
    "a = Square(0)\n",
    "a.getLength()\n",
    "print(\"Area:\", a.calculateArea())"
   ]
  },
  {
   "cell_type": "code",
   "execution_count": 9,
   "id": "f1d8e7af-1fa6-4fbd-afb0-59f5914eca19",
   "metadata": {},
   "outputs": [
    {
     "name": "stdin",
     "output_type": "stream",
     "text": [
      "width:  2\n",
      "lenght:  5\n"
     ]
    },
    {
     "name": "stdout",
     "output_type": "stream",
     "text": [
      "Area: 10\n"
     ]
    }
   ],
   "source": [
    "class Shape:\n",
    "    def __init__(self):\n",
    "        self.area = 0\n",
    "class Rectangle(Shape):\n",
    "    def __init__(self, width, length):\n",
    "        super().__init__()\n",
    "        self.width = width\n",
    "        self.length = length\n",
    "\n",
    "    def getParameters(self):\n",
    "        self.width = int(input(\"width: \"))\n",
    "        self.length = int(input(\"lenght: \"))\n",
    "\n",
    "    def printArea(self):\n",
    "        self.area = self.width * self.length\n",
    "        return self.area\n",
    "\n",
    "a = Rectangle(0,0)\n",
    "a.getParameters()\n",
    "print(\"Area:\", a.printArea())"
   ]
  },
  {
   "cell_type": "code",
   "execution_count": 13,
   "id": "c52d1385-7568-46a6-9810-622caf6914d7",
   "metadata": {},
   "outputs": [
    {
     "name": "stdin",
     "output_type": "stream",
     "text": [
      "x1:  1\n",
      "y1:  1\n",
      "x2:  1\n",
      "y2:  5\n"
     ]
    },
    {
     "name": "stdout",
     "output_type": "stream",
     "text": [
      "Coordinates: (1, 1, 1, 5)\n"
     ]
    },
    {
     "name": "stdin",
     "output_type": "stream",
     "text": [
      "x1:  3\n",
      "y1:  2\n",
      "x2:  3\n",
      "y2:  6\n"
     ]
    },
    {
     "name": "stdout",
     "output_type": "stream",
     "text": [
      "New coordinates (3, 2, 3, 6)\n",
      "Distance: 4.0\n"
     ]
    }
   ],
   "source": [
    "from math import *\n",
    "class Point:\n",
    "    def __init__(self):\n",
    "        self.x1 = 0\n",
    "        self.y1 = 0\n",
    "        self.x2 = 0\n",
    "        self.y2 = 0\n",
    "\n",
    "    def getData(self):\n",
    "        self.x1 = int(input(\"x1: \"))\n",
    "        self.y1 = int(input(\"y1: \"))\n",
    "        self.x2 = int(input(\"x2: \"))\n",
    "        self.y2 = int(input(\"y2: \"))\n",
    "\n",
    "    def showCoordinates(self):\n",
    "        return self.x1, self.y1, self.x2, self.y2\n",
    "    \n",
    "    def changeCoordinates(self):\n",
    "        self.x1 = int(input(\"x1: \"))\n",
    "        self.y1 = int(input(\"y1: \"))\n",
    "        self.x2 = int(input(\"x2: \"))\n",
    "        self.y2 = int(input(\"y2: \"))\n",
    "    \n",
    "    def distCoordinates(self):\n",
    "        return sqrt((self.x2 - self.x1)**2 + (self.y2 - self.y1)**2)\n",
    "\n",
    "a = Point()\n",
    "a.getData()\n",
    "print(\"Coordinates: {}\".format(a.showCoordinates()))\n",
    "a.changeCoordinates()\n",
    "print(\"New coordinates {}\".format(a.showCoordinates()))\n",
    "print(\"Distance: {}\".format(a.distCoordinates()))"
   ]
  },
  {
   "cell_type": "code",
   "execution_count": 15,
   "id": "0b5333bf-2130-4c25-b13d-5d475838e9a1",
   "metadata": {},
   "outputs": [
    {
     "name": "stdin",
     "output_type": "stream",
     "text": [
      "Fido: chyna\n",
      "Enter your balance:  50000\n",
      "Enter operation type (Withdraw/Deposit/Exit):  Deposit\n",
      "Deposite sum:  20000\n"
     ]
    },
    {
     "name": "stdout",
     "output_type": "stream",
     "text": [
      "Succesfully!\n",
      "Your current balance(tg): 70000\n"
     ]
    },
    {
     "name": "stdin",
     "output_type": "stream",
     "text": [
      "Enter operation type (Withdraw/Deposit/Exit):  Withdraw\n",
      "Output sum:  70000\n"
     ]
    },
    {
     "name": "stdout",
     "output_type": "stream",
     "text": [
      "Succesfully!\n",
      "Your current balance(tg): 0\n"
     ]
    },
    {
     "name": "stdin",
     "output_type": "stream",
     "text": [
      "Enter operation type (Withdraw/Deposit/Exit):  Exit\n"
     ]
    }
   ],
   "source": [
    "class Account:\n",
    "    def __init__(self, owner = \"\", balance = 0):\n",
    "        self.balance = balance\n",
    "        self.owner = owner\n",
    "\n",
    "    def deposit(self):\n",
    "        dengidengi = int(input(\"Deposite sum: \"))\n",
    "        self.balance += dengidengi\n",
    "        print(\"Succesfully!\")\n",
    "        print(f\"Your current balance(tg): {self.balance}\")\n",
    "    \n",
    "    def withdraww(self):\n",
    "        withdraw = int(input(\"Output sum: \"))\n",
    "        if withdraw > self.balance:\n",
    "            print(\"Not enough cash!\")\n",
    "        else:\n",
    "            self.balance -= withdraw\n",
    "            print(\"Succesfully!\")\n",
    "            print(f\"Your current balance(tg): {self.balance}\")\n",
    "\n",
    "bankOperation = Account(input(\"Fido:\"), int(input(\"Enter your balance: \")))\n",
    "while True:\n",
    "    typeoper = input(\"Enter operation type (Withdraw/Deposit/Exit): \")\n",
    "    if typeoper == \"Withdraw\":\n",
    "        bankOperation.withdraww()\n",
    "    elif typeoper == \"Deposit\":\n",
    "        bankOperation.deposit()\n",
    "    elif typeoper == \"Exit\":\n",
    "        break\n",
    "    else:\n",
    "        print(\"Incorrect entry of operarions.\")"
   ]
  },
  {
   "cell_type": "code",
   "execution_count": 17,
   "id": "8263302d-5023-4d39-a16b-3a20b02bf3ce",
   "metadata": {},
   "outputs": [
    {
     "name": "stdin",
     "output_type": "stream",
     "text": [
      " 1 2 3 4 5 6 7 8 9 11\n"
     ]
    },
    {
     "name": "stdout",
     "output_type": "stream",
     "text": [
      "Prime numbers: [2, 3, 5, 7, 11]\n"
     ]
    }
   ],
   "source": [
    "def prime(num):\n",
    "    if num <= 1:\n",
    "        return False\n",
    "    for i in range(2, int(num**0.5) + 1):\n",
    "        if num % i == 0:\n",
    "            return False\n",
    "    return True\n",
    "\n",
    "numbers = list(map(int, input().split()))\n",
    "prime_numbers = list(filter(lambda x: prime(x), numbers))\n",
    "\n",
    "print(\"Prime numbers:\", prime_numbers)"
   ]
  },
  {
   "cell_type": "code",
   "execution_count": null,
   "id": "cdb0d3db-ca90-4109-bc60-8c11a02c394c",
   "metadata": {},
   "outputs": [],
   "source": []
  }
 ],
 "metadata": {
  "kernelspec": {
   "display_name": "Python [conda env:base] *",
   "language": "python",
   "name": "conda-base-py"
  },
  "language_info": {
   "codemirror_mode": {
    "name": "ipython",
    "version": 3
   },
   "file_extension": ".py",
   "mimetype": "text/x-python",
   "name": "python",
   "nbconvert_exporter": "python",
   "pygments_lexer": "ipython3",
   "version": "3.12.7"
  }
 },
 "nbformat": 4,
 "nbformat_minor": 5
}
